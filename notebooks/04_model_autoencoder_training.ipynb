{
 "cells": [
  {
   "cell_type": "markdown",
   "id": "b6f3cb6c",
   "metadata": {},
   "source": [
    "# 🤖 Entraînement Autoencoder – Détection d'Anomalies Audio (DCASE 2024 Task 2)\n",
    "\n",
    "Ce notebook a pour objectif de :\n",
    "\n",
    "- Charger les vecteurs de features audio prétraités\n",
    "- Entraîner un autoencodeur non supervisé sur les sons **normaux**\n",
    "- Identifier les anomalies par reconstruction dégradée\n",
    "- Évaluer la performance par l’erreur de reconstruction + AUC\n",
    "\n",
    "---\n",
    "\n",
    "📦 **Prérequis** :\n",
    "- Features extraites et sauvegardées dans `FEATURES_DIR`\n",
    "- Normalisation préalable effectuée\n"
   ]
  },
  {
   "cell_type": "code",
   "execution_count": 1,
   "id": "e6a31e4d",
   "metadata": {},
   "outputs": [],
   "source": [
    "# 📌 Librairies standards\n",
    "import sys\n",
    "from pathlib import Path\n",
    "import numpy as np\n",
    "import pandas as pd\n",
    "import matplotlib.pyplot as plt\n",
    "import seaborn as sns\n",
    "\n",
    "# 📂 Machine Learning\n",
    "from sklearn.model_selection import train_test_split\n",
    "from sklearn.preprocessing import StandardScaler\n",
    "from sklearn.metrics import roc_auc_score\n",
    "\n",
    "# 🤖 Deep Learning\n",
    "from tensorflow.keras.models import Model\n",
    "from tensorflow.keras.layers import Input, Dense\n",
    "from tensorflow.keras.optimizers import Adam\n",
    "\n",
    "# 📌 Configuration globale\n",
    "import warnings\n",
    "warnings.filterwarnings('ignore')\n",
    "\n",
    "# 📂 Ajout dynamique du répertoire principal au PYTHONPATH\n",
    "project_root = Path.cwd().parent  # DCASE2024_ASD_Project/\n",
    "sys.path.append(str(project_root))\n",
    "\n",
    "# 🔧 Ajout de la racine du projet dans le PYTHONPATH\n",
    "#project_root = Path(__file__).resolve().parent.parent  # ou adapte manuellement\n",
    "#sys.path.append(str(project_root))\n",
    "\n",
    "# 🔧 Projet\n",
    "from src import config, processing\n",
    "from src.utils.logger_utils import logger\n"
   ]
  },
  {
   "cell_type": "code",
   "execution_count": 1,
   "id": "4e34b87c",
   "metadata": {},
   "outputs": [
    {
     "name": "stderr",
     "output_type": "stream",
     "text": [
      "2025-03-22 21:29:12 - INFO - Loading normalized features from C:\\Users\\guidy\\Documents\\Datascience\\Data\\sound_datasets\\DCASE_DATASET\\features...\n",
      "🔄 Processing machine types: 0it [00:00, ?it/s]\n",
      "📂 fan - loading split files: 0it [00:00, ?it/s]\u001b[A\n",
      "📂 fan - loading split files: 1it [00:01,  1.61s/it]\u001b[A\n",
      "📂 fan - loading split files: 2it [00:03,  1.82s/it]\u001b[A\n",
      "🔄 Processing machine types: 1it [00:03,  3.58s/it] \u001b[A\n",
      "📂 pump - loading split files: 0it [00:00, ?it/s]\u001b[A\n",
      "📂 pump - loading split files: 1it [00:00,  2.40it/s]\u001b[A\n",
      "📂 pump - loading split files: 2it [00:02,  1.17s/it]\u001b[A\n",
      "🔄 Processing machine types: 2it [00:05,  2.73s/it]  \u001b[A\n",
      "📂 slider - loading split files: 0it [00:00, ?it/s]\u001b[A\n",
      "📂 slider - loading split files: 1it [00:00,  1.65it/s]\u001b[A\n",
      "📂 slider - loading split files: 2it [00:01,  1.03s/it]\u001b[A\n",
      "🔄 Processing machine types: 3it [00:07,  2.37s/it]    \u001b[A\n",
      "📂 ToyCar - loading split files: 0it [00:00, ?it/s]\u001b[A\n",
      "📂 ToyCar - loading split files: 1it [00:01,  1.36s/it]\u001b[A\n",
      "📂 ToyCar - loading split files: 2it [00:03,  1.69s/it]\u001b[A\n",
      "🔄 Processing machine types: 4it [00:10,  2.73s/it]    \u001b[A\n",
      "📂 ToyConveyor - loading split files: 0it [00:00, ?it/s]\u001b[A\n",
      "📂 ToyConveyor - loading split files: 1it [00:01,  1.66s/it]\u001b[A\n",
      "📂 ToyConveyor - loading split files: 2it [00:03,  1.54s/it]\u001b[A\n",
      "🔄 Processing machine types: 5it [00:14,  2.87s/it]         \u001b[A\n",
      "📂 valve - loading split files: 0it [00:00, ?it/s]\u001b[A\n",
      "📂 valve - loading split files: 1it [00:00,  2.03it/s]\u001b[A\n",
      "📂 valve - loading split files: 2it [00:02,  1.13s/it]\u001b[A\n",
      "🔄 Processing machine types: 6it [00:16,  2.69s/it]   \u001b[A\n",
      "2025-03-22 21:29:33 - INFO - Loaded 30987 samples with 147 features each.\n",
      "2025-03-22 21:29:33 - INFO - X shape = (30987, 147, 157), y shape = (30987,)\n"
     ]
    }
   ],
   "source": [
    "# 📊 Options d'affichage\n",
    "plt.style.use(\"seaborn-v0_8-whitegrid\")\n",
    "sns.set_palette(\"pastel\")\n",
    "%matplotlib inline\n",
    "\n",
    "# 📂 Chargement des features audio\n",
    "X, y = processing.load_audio_features(config.FEATURES_DIR)\n",
    "\n",
    "# ✅ Vérification des dimensions\n",
    "logger.info(f\"X shape = {X.shape}, y shape = {y.shape}\")\n"
   ]
  },
  {
   "cell_type": "code",
   "execution_count": 2,
   "id": "8283b533",
   "metadata": {},
   "outputs": [],
   "source": [
    "# 🎯 Moyenne temporelle → vecteur par fichier\n",
    "X_mean = X.mean(axis=2)\n",
    "\n",
    "# ⚠️ Entraînement uniquement sur les sons normaux\n",
    "X_normal = X_mean[y == 0]\n",
    "\n",
    "# 📦 Split train / validation\n",
    "X_train, X_val = train_test_split(X_normal, test_size=0.2, random_state=42)\n",
    "\n",
    "# ⚖️ Normalisation\n",
    "scaler = StandardScaler()\n",
    "X_train_scaled = scaler.fit_transform(X_train)\n",
    "X_val_scaled = scaler.transform(X_val)\n"
   ]
  },
  {
   "cell_type": "markdown",
   "id": "730643cf",
   "metadata": {},
   "source": [
    "## 🧱 Bloc 1 – Architecture de l’Autoencoder\n",
    "\n",
    "Le modèle utilisé est un autoencodeur dense symétrique :\n",
    "- Une couche d'encodage (relu)\n",
    "- Une couche de décodage (linéaire)\n"
   ]
  },
  {
   "cell_type": "code",
   "execution_count": 3,
   "id": "1200ae0a",
   "metadata": {},
   "outputs": [
    {
     "name": "stdout",
     "output_type": "stream",
     "text": [
      "Model: \"model\"\n",
      "_________________________________________________________________\n",
      " Layer (type)                Output Shape              Param #   \n",
      "=================================================================\n",
      " input_1 (InputLayer)        [(None, 147)]             0         \n",
      "                                                                 \n",
      " dense (Dense)               (None, 64)                9472      \n",
      "                                                                 \n",
      " dense_1 (Dense)             (None, 147)               9555      \n",
      "                                                                 \n",
      "=================================================================\n",
      "Total params: 19,027\n",
      "Trainable params: 19,027\n",
      "Non-trainable params: 0\n",
      "_________________________________________________________________\n"
     ]
    }
   ],
   "source": [
    "# 🔧 Architecture de base\n",
    "input_dim = X_train_scaled.shape[1]\n",
    "encoding_dim = 64\n",
    "\n",
    "input_layer = Input(shape=(input_dim,))\n",
    "encoded = Dense(encoding_dim, activation=\"relu\")(input_layer)\n",
    "decoded = Dense(input_dim, activation=\"linear\")(encoded)\n",
    "\n",
    "autoencoder = Model(inputs=input_layer, outputs=decoded)\n",
    "autoencoder.compile(optimizer=Adam(1e-3), loss=\"mse\")\n",
    "\n",
    "autoencoder.summary()\n"
   ]
  },
  {
   "cell_type": "markdown",
   "id": "88523ec8",
   "metadata": {},
   "source": [
    "## 🚀 Bloc 2 – Entraînement de l'Autoencoder\n",
    "\n",
    "Entraînement sur les sons normaux (80%) avec validation sur 20%.\n",
    "La fonction de perte est l’erreur quadratique moyenne (MSE).\n"
   ]
  },
  {
   "cell_type": "code",
   "execution_count": 4,
   "id": "a8e2677c",
   "metadata": {
    "scrolled": true
   },
   "outputs": [
    {
     "name": "stdout",
     "output_type": "stream",
     "text": [
      "Epoch 1/100\n",
      "80/80 [==============================] - 1s 6ms/step - loss: 0.9584 - val_loss: 0.7516\n",
      "Epoch 2/100\n",
      "80/80 [==============================] - 0s 4ms/step - loss: 0.6785 - val_loss: 0.6200\n",
      "Epoch 3/100\n",
      "80/80 [==============================] - 0s 4ms/step - loss: 0.5841 - val_loss: 0.5551\n",
      "Epoch 4/100\n",
      "80/80 [==============================] - 0s 3ms/step - loss: 0.5328 - val_loss: 0.5171\n",
      "Epoch 5/100\n",
      "80/80 [==============================] - 0s 4ms/step - loss: 0.5015 - val_loss: 0.4931\n",
      "Epoch 6/100\n",
      "80/80 [==============================] - 0s 4ms/step - loss: 0.4810 - val_loss: 0.4767\n",
      "Epoch 7/100\n",
      "80/80 [==============================] - 0s 4ms/step - loss: 0.4654 - val_loss: 0.4631\n",
      "Epoch 8/100\n",
      "80/80 [==============================] - 0s 4ms/step - loss: 0.4516 - val_loss: 0.4503\n",
      "Epoch 9/100\n",
      "80/80 [==============================] - 0s 3ms/step - loss: 0.4383 - val_loss: 0.4377\n",
      "Epoch 10/100\n",
      "80/80 [==============================] - 0s 4ms/step - loss: 0.4253 - val_loss: 0.4254\n",
      "Epoch 11/100\n",
      "80/80 [==============================] - 0s 4ms/step - loss: 0.4126 - val_loss: 0.4137\n",
      "Epoch 12/100\n",
      "80/80 [==============================] - 0s 4ms/step - loss: 0.4007 - val_loss: 0.4031\n",
      "Epoch 13/100\n",
      "80/80 [==============================] - 0s 4ms/step - loss: 0.3901 - val_loss: 0.3941\n",
      "Epoch 14/100\n",
      "80/80 [==============================] - 0s 4ms/step - loss: 0.3817 - val_loss: 0.3871\n",
      "Epoch 15/100\n",
      "80/80 [==============================] - 0s 3ms/step - loss: 0.3750 - val_loss: 0.3818\n",
      "Epoch 16/100\n",
      "80/80 [==============================] - 0s 3ms/step - loss: 0.3701 - val_loss: 0.3782\n",
      "Epoch 17/100\n",
      "80/80 [==============================] - 0s 3ms/step - loss: 0.3664 - val_loss: 0.3748\n",
      "Epoch 18/100\n",
      "80/80 [==============================] - 0s 3ms/step - loss: 0.3635 - val_loss: 0.3731\n",
      "Epoch 19/100\n",
      "80/80 [==============================] - 0s 4ms/step - loss: 0.3613 - val_loss: 0.3714\n",
      "Epoch 20/100\n",
      "80/80 [==============================] - 0s 4ms/step - loss: 0.3596 - val_loss: 0.3699\n",
      "Epoch 21/100\n",
      "80/80 [==============================] - 0s 4ms/step - loss: 0.3582 - val_loss: 0.3687\n",
      "Epoch 22/100\n",
      "80/80 [==============================] - 0s 4ms/step - loss: 0.3568 - val_loss: 0.3678\n",
      "Epoch 23/100\n",
      "80/80 [==============================] - 0s 4ms/step - loss: 0.3557 - val_loss: 0.3677\n",
      "Epoch 24/100\n",
      "80/80 [==============================] - 0s 4ms/step - loss: 0.3547 - val_loss: 0.3663\n",
      "Epoch 25/100\n",
      "80/80 [==============================] - 0s 4ms/step - loss: 0.3538 - val_loss: 0.3656\n",
      "Epoch 26/100\n",
      "80/80 [==============================] - 0s 4ms/step - loss: 0.3531 - val_loss: 0.3649\n",
      "Epoch 27/100\n",
      "80/80 [==============================] - 0s 5ms/step - loss: 0.3524 - val_loss: 0.3645\n",
      "Epoch 28/100\n",
      "80/80 [==============================] - 0s 4ms/step - loss: 0.3516 - val_loss: 0.3638\n",
      "Epoch 29/100\n",
      "80/80 [==============================] - 0s 4ms/step - loss: 0.3510 - val_loss: 0.3637\n",
      "Epoch 30/100\n",
      "80/80 [==============================] - 0s 4ms/step - loss: 0.3506 - val_loss: 0.3632\n",
      "Epoch 31/100\n",
      "80/80 [==============================] - 0s 4ms/step - loss: 0.3501 - val_loss: 0.3628\n",
      "Epoch 32/100\n",
      "80/80 [==============================] - 0s 4ms/step - loss: 0.3495 - val_loss: 0.3624\n",
      "Epoch 33/100\n",
      "80/80 [==============================] - 0s 4ms/step - loss: 0.3491 - val_loss: 0.3623\n",
      "Epoch 34/100\n",
      "80/80 [==============================] - 0s 4ms/step - loss: 0.3489 - val_loss: 0.3619\n",
      "Epoch 35/100\n",
      "80/80 [==============================] - 0s 4ms/step - loss: 0.3483 - val_loss: 0.3616\n",
      "Epoch 36/100\n",
      "80/80 [==============================] - 0s 4ms/step - loss: 0.3481 - val_loss: 0.3614\n",
      "Epoch 37/100\n",
      "80/80 [==============================] - 0s 4ms/step - loss: 0.3476 - val_loss: 0.3618\n",
      "Epoch 38/100\n",
      "80/80 [==============================] - 0s 4ms/step - loss: 0.3474 - val_loss: 0.3611\n",
      "Epoch 39/100\n",
      "80/80 [==============================] - 0s 4ms/step - loss: 0.3472 - val_loss: 0.3607\n",
      "Epoch 40/100\n",
      "80/80 [==============================] - 0s 4ms/step - loss: 0.3469 - val_loss: 0.3603\n",
      "Epoch 41/100\n",
      "80/80 [==============================] - 0s 4ms/step - loss: 0.3467 - val_loss: 0.3605\n",
      "Epoch 42/100\n",
      "80/80 [==============================] - 0s 5ms/step - loss: 0.3466 - val_loss: 0.3606\n",
      "Epoch 43/100\n",
      "80/80 [==============================] - 0s 5ms/step - loss: 0.3464 - val_loss: 0.3602\n",
      "Epoch 44/100\n",
      "80/80 [==============================] - 0s 5ms/step - loss: 0.3462 - val_loss: 0.3604\n",
      "Epoch 45/100\n",
      "80/80 [==============================] - 0s 4ms/step - loss: 0.3460 - val_loss: 0.3603\n",
      "Epoch 46/100\n",
      "80/80 [==============================] - 0s 4ms/step - loss: 0.3459 - val_loss: 0.3604\n",
      "Epoch 47/100\n",
      "80/80 [==============================] - 0s 4ms/step - loss: 0.3459 - val_loss: 0.3600\n",
      "Epoch 48/100\n",
      "80/80 [==============================] - 0s 4ms/step - loss: 0.3455 - val_loss: 0.3605\n",
      "Epoch 49/100\n",
      "80/80 [==============================] - 0s 4ms/step - loss: 0.3456 - val_loss: 0.3602\n",
      "Epoch 50/100\n",
      "80/80 [==============================] - 0s 4ms/step - loss: 0.3455 - val_loss: 0.3598\n",
      "Epoch 51/100\n",
      "80/80 [==============================] - 0s 4ms/step - loss: 0.3452 - val_loss: 0.3597\n",
      "Epoch 52/100\n",
      "80/80 [==============================] - 0s 4ms/step - loss: 0.3452 - val_loss: 0.3598\n",
      "Epoch 53/100\n",
      "80/80 [==============================] - 0s 5ms/step - loss: 0.3451 - val_loss: 0.3598\n",
      "Epoch 54/100\n",
      "80/80 [==============================] - 0s 5ms/step - loss: 0.3450 - val_loss: 0.3594\n",
      "Epoch 55/100\n",
      "80/80 [==============================] - 0s 5ms/step - loss: 0.3450 - val_loss: 0.3596\n",
      "Epoch 56/100\n",
      "80/80 [==============================] - 0s 5ms/step - loss: 0.3448 - val_loss: 0.3595\n",
      "Epoch 57/100\n",
      "80/80 [==============================] - 0s 5ms/step - loss: 0.3448 - val_loss: 0.3597\n",
      "Epoch 58/100\n",
      "80/80 [==============================] - 0s 5ms/step - loss: 0.3448 - val_loss: 0.3598\n",
      "Epoch 59/100\n",
      "80/80 [==============================] - 0s 4ms/step - loss: 0.3445 - val_loss: 0.3595\n",
      "Epoch 60/100\n",
      "80/80 [==============================] - 0s 4ms/step - loss: 0.3445 - val_loss: 0.3589\n",
      "Epoch 61/100\n",
      "80/80 [==============================] - 0s 4ms/step - loss: 0.3445 - val_loss: 0.3592\n",
      "Epoch 62/100\n",
      "80/80 [==============================] - 0s 4ms/step - loss: 0.3444 - val_loss: 0.3596\n",
      "Epoch 63/100\n",
      "80/80 [==============================] - 0s 4ms/step - loss: 0.3444 - val_loss: 0.3600\n",
      "Epoch 64/100\n",
      "80/80 [==============================] - 0s 4ms/step - loss: 0.3443 - val_loss: 0.3591\n",
      "Epoch 65/100\n",
      "80/80 [==============================] - 0s 4ms/step - loss: 0.3443 - val_loss: 0.3591\n",
      "Epoch 66/100\n",
      "80/80 [==============================] - 0s 4ms/step - loss: 0.3441 - val_loss: 0.3588\n",
      "Epoch 67/100\n",
      "80/80 [==============================] - 0s 4ms/step - loss: 0.3441 - val_loss: 0.3590\n",
      "Epoch 68/100\n",
      "80/80 [==============================] - 0s 4ms/step - loss: 0.3442 - val_loss: 0.3593\n",
      "Epoch 69/100\n",
      "80/80 [==============================] - 0s 5ms/step - loss: 0.3440 - val_loss: 0.3593\n",
      "Epoch 70/100\n",
      "80/80 [==============================] - 0s 4ms/step - loss: 0.3439 - val_loss: 0.3590\n",
      "Epoch 71/100\n",
      "80/80 [==============================] - 0s 4ms/step - loss: 0.3437 - val_loss: 0.3591\n",
      "Epoch 72/100\n",
      "80/80 [==============================] - 0s 4ms/step - loss: 0.3440 - val_loss: 0.3589\n",
      "Epoch 73/100\n",
      "80/80 [==============================] - 0s 4ms/step - loss: 0.3438 - val_loss: 0.3593\n",
      "Epoch 74/100\n",
      "80/80 [==============================] - 0s 4ms/step - loss: 0.3438 - val_loss: 0.3590\n",
      "Epoch 75/100\n",
      "80/80 [==============================] - 0s 4ms/step - loss: 0.3436 - val_loss: 0.3593\n",
      "Epoch 76/100\n",
      "80/80 [==============================] - 0s 4ms/step - loss: 0.3438 - val_loss: 0.3586\n",
      "Epoch 77/100\n",
      "80/80 [==============================] - 0s 5ms/step - loss: 0.3437 - val_loss: 0.3589\n",
      "Epoch 78/100\n",
      "80/80 [==============================] - 0s 4ms/step - loss: 0.3438 - val_loss: 0.3589\n",
      "Epoch 79/100\n",
      "80/80 [==============================] - 0s 4ms/step - loss: 0.3437 - val_loss: 0.3590\n",
      "Epoch 80/100\n",
      "80/80 [==============================] - 0s 4ms/step - loss: 0.3436 - val_loss: 0.3592\n",
      "Epoch 81/100\n",
      "80/80 [==============================] - 0s 4ms/step - loss: 0.3435 - val_loss: 0.3591\n",
      "Epoch 82/100\n",
      "80/80 [==============================] - 0s 4ms/step - loss: 0.3434 - val_loss: 0.3588\n",
      "Epoch 83/100\n"
     ]
    },
    {
     "name": "stdout",
     "output_type": "stream",
     "text": [
      "80/80 [==============================] - 0s 4ms/step - loss: 0.3434 - val_loss: 0.3591\n",
      "Epoch 84/100\n",
      "80/80 [==============================] - 0s 4ms/step - loss: 0.3435 - val_loss: 0.3587\n",
      "Epoch 85/100\n",
      "80/80 [==============================] - 0s 5ms/step - loss: 0.3435 - val_loss: 0.3586\n",
      "Epoch 86/100\n",
      "80/80 [==============================] - 0s 4ms/step - loss: 0.3433 - val_loss: 0.3591\n",
      "Epoch 87/100\n",
      "80/80 [==============================] - 0s 4ms/step - loss: 0.3434 - val_loss: 0.3594\n",
      "Epoch 88/100\n",
      "80/80 [==============================] - 0s 5ms/step - loss: 0.3432 - val_loss: 0.3588\n",
      "Epoch 89/100\n",
      "80/80 [==============================] - 0s 4ms/step - loss: 0.3432 - val_loss: 0.3589\n",
      "Epoch 90/100\n",
      "80/80 [==============================] - 0s 4ms/step - loss: 0.3432 - val_loss: 0.3588\n",
      "Epoch 91/100\n",
      "80/80 [==============================] - 0s 5ms/step - loss: 0.3433 - val_loss: 0.3585\n",
      "Epoch 92/100\n",
      "80/80 [==============================] - 0s 4ms/step - loss: 0.3432 - val_loss: 0.3586\n",
      "Epoch 93/100\n",
      "80/80 [==============================] - 0s 4ms/step - loss: 0.3433 - val_loss: 0.3590\n",
      "Epoch 94/100\n",
      "80/80 [==============================] - 0s 4ms/step - loss: 0.3433 - val_loss: 0.3584\n",
      "Epoch 95/100\n",
      "80/80 [==============================] - 0s 4ms/step - loss: 0.3433 - val_loss: 0.3585\n",
      "Epoch 96/100\n",
      "80/80 [==============================] - 0s 5ms/step - loss: 0.3433 - val_loss: 0.3589\n",
      "Epoch 97/100\n",
      "80/80 [==============================] - 0s 5ms/step - loss: 0.3432 - val_loss: 0.3589\n",
      "Epoch 98/100\n",
      "80/80 [==============================] - 0s 4ms/step - loss: 0.3430 - val_loss: 0.3587\n",
      "Epoch 99/100\n",
      "80/80 [==============================] - 0s 5ms/step - loss: 0.3431 - val_loss: 0.3588\n",
      "Epoch 100/100\n",
      "80/80 [==============================] - 0s 5ms/step - loss: 0.3431 - val_loss: 0.3585\n"
     ]
    }
   ],
   "source": [
    "history = autoencoder.fit(\n",
    "    X_train_scaled, X_train_scaled,\n",
    "    validation_data=(X_val_scaled, X_val_scaled),\n",
    "    epochs=100,\n",
    "    batch_size=256,\n",
    "    verbose=1\n",
    ")\n"
   ]
  },
  {
   "cell_type": "code",
   "execution_count": 5,
   "id": "6b3eaa6f",
   "metadata": {},
   "outputs": [
    {
     "data": {
      "image/png": "[encoded data removed]",
      "text/plain": [
       "<Figure size 800x400 with 1 Axes>"
      ]
     },
     "metadata": {},
     "output_type": "display_data"
    }
   ],
   "source": [
    "plt.figure(figsize=(8, 4))\n",
    "plt.plot(history.history[\"loss\"], label=\"Train\")\n",
    "plt.plot(history.history[\"val_loss\"], label=\"Validation\")\n",
    "plt.title(\"Courbe d'apprentissage (MSE)\", fontsize=14)\n",
    "plt.xlabel(\"Époque\")\n",
    "plt.ylabel(\"Loss\")\n",
    "plt.legend()\n",
    "plt.grid(True)\n",
    "plt.tight_layout()\n",
    "plt.show()\n"
   ]
  },
  {
   "cell_type": "markdown",
   "id": "8b704550",
   "metadata": {},
   "source": [
    "## 📈 Bloc 3 – Évaluation du Modèle sur l’Ensemble Complet\n",
    "\n",
    "Nous appliquons l’autoencodeur à tous les fichiers (normaux + anomalies) et analysons :\n",
    "\n",
    "- L’erreur de reconstruction (MSE)\n",
    "- La distribution des erreurs selon les classes\n",
    "- Le score AUC pour évaluer la séparation normal/anomaly\n"
   ]
  },
  {
   "cell_type": "code",
   "execution_count": 6,
   "id": "8a8f8af4",
   "metadata": {},
   "outputs": [
    {
     "name": "stdout",
     "output_type": "stream",
     "text": [
      "969/969 [==============================] - 1s 1ms/step\n"
     ]
    }
   ],
   "source": [
    "# ⚠️ Normalisation de tous les fichiers (X_mean déjà extrait en amont)\n",
    "X_scaled_all = scaler.transform(X_mean)\n",
    "\n",
    "# 🔄 Reconstruction avec l'autoencodeur\n",
    "X_recon = autoencoder.predict(X_scaled_all)\n",
    "\n",
    "# 🔥 Calcul de l’erreur de reconstruction par fichier\n",
    "reconstruction_error = np.mean((X_scaled_all - X_recon) ** 2, axis=1)\n"
   ]
  },
  {
   "cell_type": "code",
   "execution_count": 7,
   "id": "175cfc6c",
   "metadata": {},
   "outputs": [
    {
     "data": {
      "image/png": "[encoded data removed]",
      "text/plain": [
       "<Figure size 1000x500 with 1 Axes>"
      ]
     },
     "metadata": {},
     "output_type": "display_data"
    }
   ],
   "source": [
    "plt.figure(figsize=(10, 5))\n",
    "sns.histplot(reconstruction_error[y == 0], label=\"Normal\", color=\"blue\", kde=True, stat=\"density\")\n",
    "sns.histplot(reconstruction_error[y == 1], label=\"Anomaly\", color=\"red\", kde=True, stat=\"density\")\n",
    "plt.title(\"Distribution des erreurs de reconstruction\", fontsize=14, fontweight='bold')\n",
    "plt.xlabel(\"Erreur MSE\")\n",
    "plt.ylabel(\"Densité\")\n",
    "plt.legend()\n",
    "plt.grid(True, linestyle='--', linewidth=0.5)\n",
    "plt.tight_layout()\n",
    "plt.show()\n"
   ]
  },
  {
   "cell_type": "code",
   "execution_count": 8,
   "id": "8c109f02",
   "metadata": {},
   "outputs": [
    {
     "name": "stderr",
     "output_type": "stream",
     "text": [
      "2025-03-22 21:30:15 - INFO - 📊 AUC basé sur l’erreur de reconstruction : 0.5446\n"
     ]
    }
   ],
   "source": [
    "from sklearn.metrics import roc_auc_score\n",
    "\n",
    "auc = roc_auc_score(y, reconstruction_error)\n",
    "logger.info(f\"📊 AUC basé sur l’erreur de reconstruction : {auc:.4f}\")\n"
   ]
  },
  {
   "cell_type": "code",
   "execution_count": 9,
   "id": "75e72582",
   "metadata": {},
   "outputs": [
    {
     "name": "stderr",
     "output_type": "stream",
     "text": [
      "2025-03-22 21:30:15 - INFO - 📌 Seuil automatique (95e percentile) = 0.471655\n"
     ]
    },
    {
     "name": "stdout",
     "output_type": "stream",
     "text": [
      "[[24242  1276]\n",
      " [ 5093   376]]\n",
      "              precision    recall  f1-score   support\n",
      "\n",
      "      Normal       0.83      0.95      0.88     25518\n",
      "     Anomaly       0.23      0.07      0.11      5469\n",
      "\n",
      "    accuracy                           0.79     30987\n",
      "   macro avg       0.53      0.51      0.49     30987\n",
      "weighted avg       0.72      0.79      0.75     30987\n",
      "\n"
     ]
    }
   ],
   "source": [
    "# Seuil basé sur le 95e percentile des erreurs des sons normaux\n",
    "threshold = np.percentile(reconstruction_error[y == 0], 95)\n",
    "logger.info(f\"📌 Seuil automatique (95e percentile) = {threshold:.6f}\")\n",
    "\n",
    "# Prédiction binaire\n",
    "y_pred = (reconstruction_error > threshold).astype(int)\n",
    "\n",
    "# Matrice de confusion\n",
    "from sklearn.metrics import confusion_matrix, classification_report\n",
    "\n",
    "print(confusion_matrix(y, y_pred))\n",
    "print(classification_report(y, y_pred, target_names=[\"Normal\", \"Anomaly\"]))\n"
   ]
  },
  {
   "cell_type": "markdown",
   "id": "38db5fb6",
   "metadata": {},
   "source": [
    "## 💾 Bloc 4 – Sauvegarde du Modèle et Export des Prédictions\n",
    "\n",
    "À la fin de l'entraînement, nous sauvegardons :\n",
    "- Le modèle autoencodeur (`.h5`)\n",
    "- Le scaler (`.pkl`) utilisé pour la normalisation\n",
    "\n",
    "Nous exportons aussi un fichier CSV contenant les prédictions de reconstruction :\n",
    "- Score MSE\n",
    "- Prédiction binaire (anomaly/normal)\n",
    "- Label réel (si disponible)\n"
   ]
  },
  {
   "cell_type": "code",
   "execution_count": 10,
   "id": "317b0150",
   "metadata": {},
   "outputs": [
    {
     "name": "stderr",
     "output_type": "stream",
     "text": [
      "2025-03-22 21:30:15 - INFO - ✅ Modèle sauvegardé dans C:\\Users\\guidy\\Documents\\Datascience\\Projet\\Kaggle\\DCASE2024_ASD_Project\\data\\models\\autoencoder_model.h5\n",
      "2025-03-22 21:30:15 - INFO - ✅ Scaler sauvegardé dans C:\\Users\\guidy\\Documents\\Datascience\\Projet\\Kaggle\\DCASE2024_ASD_Project\\data\\models\\scaler.pkl\n"
     ]
    }
   ],
   "source": [
    "from tensorflow.keras.models import save_model\n",
    "import joblib\n",
    "\n",
    "# 📂 Dossier de sauvegarde\n",
    "model_dir = config.MODEL_DIR\n",
    "model_dir.mkdir(parents=True, exist_ok=True)\n",
    "\n",
    "# 🔐 Sauvegarde du modèle\n",
    "model_path = model_dir / \"autoencoder_model.h5\"\n",
    "save_model(autoencoder, model_path)\n",
    "\n",
    "# 💾 Sauvegarde du scaler\n",
    "scaler_path = model_dir / \"scaler.pkl\"\n",
    "joblib.dump(scaler, scaler_path)\n",
    "\n",
    "logger.info(f\"✅ Modèle sauvegardé dans {model_path}\")\n",
    "logger.info(f\"✅ Scaler sauvegardé dans {scaler_path}\")\n"
   ]
  },
  {
   "cell_type": "code",
   "execution_count": 11,
   "id": "0d43ec3a",
   "metadata": {},
   "outputs": [
    {
     "name": "stderr",
     "output_type": "stream",
     "text": [
      "2025-03-22 21:30:15 - INFO - 📄 Prédictions exportées vers C:\\Users\\guidy\\Documents\\Datascience\\Projet\\Kaggle\\DCASE2024_ASD_Project\\data\\models\\reconstruction_predictions.csv\n"
     ]
    }
   ],
   "source": [
    "# 🎯 Seuil défini (ex: 95e percentile sur les normaux)\n",
    "threshold = np.percentile(reconstruction_error[y == 0], 95)\n",
    "y_pred = (reconstruction_error > threshold).astype(int)\n",
    "\n",
    "# 📁 Création DataFrame\n",
    "df_pred = pd.DataFrame({\n",
    "    \"reconstruction_error\": reconstruction_error,\n",
    "    \"true_label\": y,\n",
    "    \"predicted_label\": y_pred\n",
    "})\n",
    "\n",
    "# 🔢 Ajout des noms de fichiers si dispo (ex: metadata)\n",
    "# df_pred[\"filename\"] = metadata[\"filename\"][:len(df_pred)]  # optionnel\n",
    "\n",
    "# 💾 Export CSV\n",
    "csv_path = model_dir / \"reconstruction_predictions.csv\"\n",
    "df_pred.to_csv(csv_path, index=False)\n",
    "\n",
    "logger.info(f\"📄 Prédictions exportées vers {csv_path}\")\n"
   ]
  },
  {
   "cell_type": "markdown",
   "id": "4e709c8b",
   "metadata": {},
   "source": [
    "## 💾 Bloc 5 – Sauvegarde du Seuil d'Anomalie (MSE)\n",
    "\n",
    "Nous sauvegardons le seuil de classification basé sur l'erreur de reconstruction :\n",
    "\n",
    "- Calculé sur les sons normaux (ex: 95e percentile)\n",
    "- Sauvegardé dans un fichier `.npy` pour réutilisation dans le notebook d'inférence\n"
   ]
  },
  {
   "cell_type": "code",
   "execution_count": 12,
   "id": "14c2d365",
   "metadata": {},
   "outputs": [
    {
     "name": "stderr",
     "output_type": "stream",
     "text": [
      "2025-03-22 21:30:15 - INFO - 📌 Seuil de détection sauvegardé : 0.471655 → C:\\Users\\guidy\\Documents\\Datascience\\Projet\\Kaggle\\DCASE2024_ASD_Project\\data\\models\\threshold.npy\n"
     ]
    }
   ],
   "source": [
    "# 🎯 Définition du seuil automatique (95e percentile des erreurs normales)\n",
    "threshold = np.percentile(reconstruction_error[y == 0], 95)\n",
    "\n",
    "# 💾 Sauvegarde du seuil dans un fichier .npy\n",
    "np.save(config.THRESHOLD_PATH, threshold)\n",
    "\n",
    "logger.info(f\"📌 Seuil de détection sauvegardé : {threshold:.6f} → {config.THRESHOLD_PATH}\")\n"
   ]
  },
  {
   "cell_type": "code",
   "execution_count": 13,
   "id": "12c36704",
   "metadata": {},
   "outputs": [
    {
     "name": "stderr",
     "output_type": "stream",
     "text": [
      "2025-03-22 21:30:15 - INFO - ✅ Seuil chargé pour l'inférence : 0.471655\n"
     ]
    }
   ],
   "source": [
    "# 🔁 Chargement du seuil enregistré\n",
    "threshold = np.load(config.THRESHOLD_PATH)\n",
    "logger.info(f\"✅ Seuil chargé pour l'inférence : {threshold:.6f}\")\n"
   ]
  }
 ],
 "metadata": {
  "kernelspec": {
   "display_name": "Python (Deep Learning Env)",
   "language": "python",
   "name": "deep_learning_env"
  },
  "language_info": {
   "codemirror_mode": {
    "name": "ipython",
    "version": 3
   },
   "file_extension": ".py",
   "mimetype": "text/x-python",
   "name": "python",
   "nbconvert_exporter": "python",
   "pygments_lexer": "ipython3",
   "version": "3.10.14"
  }
 },
 "nbformat": 4,
 "nbformat_minor": 5
}
