{
 "cells": [
  {
   "cell_type": "markdown",
   "id": "43bc2e74",
   "metadata": {},
   "source": [
    "# 🔊 Audio Anomaly Detection Extract features\n",
    "This notebook extract these features :\n",
    "* mfcc_combined, mel_spec, chroma, rms, stft_spec_db, chroma_cens\n",
    "* spectral_contrast, zero_crossing_rate, spectral_centroid, spectral_rolloff\n"
   ]
  },
  {
   "cell_type": "code",
   "execution_count": 1,
   "id": "52189754",
   "metadata": {},
   "outputs": [
    {
     "name": "stderr",
     "output_type": "stream",
     "text": [
      "2025-03-24 22:55:26 - INFO - 📌 Notebook Extract Features - création des fichiers npy des features\n"
     ]
    }
   ],
   "source": [
    "# 📌 Importation des bibliothèques essentielles\n",
    "import sys\n",
    "from pathlib import Path\n",
    "import numpy as np\n",
    "import pandas as pd\n",
    "import librosa\n",
    "import matplotlib.pyplot as plt\n",
    "import time, datetime\n",
    "\n",
    "from collections import Counter\n",
    "from tqdm import tqdm\n",
    "\n",
    "# 📌 Configuration globale\n",
    "import warnings\n",
    "warnings.filterwarnings('ignore')\n",
    "\n",
    "# 📂 Ajout dynamique du répertoire principal au PYTHONPATH\n",
    "project_root = Path.cwd().parent  # DCASE2024_ASD_Project/\n",
    "sys.path.append(str(project_root))\n",
    "\n",
    "# 📂 Importation des modules du projet\n",
    "from src import config, processing, visualization\n",
    "from src.utils.logger_utils import configure_logger\n",
    "\n",
    "# 🔧 Configuration du logger\n",
    "logger = configure_logger()\n",
    "logger.info(\"📌 Notebook Extract Features - création des fichiers npy des features\")\n",
    "\n",
    "# 🎛️ Échantillonnage standard (à adapter selon ton cas)\n",
    "sample_rate = config.SR  # Remplace par ta fréquence réelle utilisée si différente"
   ]
  },
  {
   "cell_type": "markdown",
   "id": "e4b18184",
   "metadata": {},
   "source": [
    "## 📌 1️⃣ Extraction des Features Audio\n",
    "Cette fonction extrait les features `.npy` et les labels correspondants.\n"
   ]
  },
  {
   "cell_type": "code",
   "execution_count": 2,
   "id": "ac6c1af9",
   "metadata": {},
   "outputs": [
    {
     "name": "stderr",
     "output_type": "stream",
     "text": [
      "2025-03-24 22:55:26 - INFO - Starting feature extraction from .npy audio files...\n",
      "Processing .npy files: 100%|███████████████████████████████████████████████████| 61974/61974 [37:47<00:00, 27.33file/s]\n",
      "2025-03-24 23:33:14 - INFO - Feature extraction completed successfully. Processing time: 0:37:48.300856.\n"
     ]
    }
   ],
   "source": [
    "processing.process_all_npy_files(\n",
    "    config.NUMPY_AUDIO_DIR, \n",
    "    config.FEATURES_DIR, \n",
    "    config.SR, \n",
    "    config.HOP_LENGTH, \n",
    "    config.N_MELS, \n",
    "    config.N_FFT, \n",
    "    config.N_MFCC,\n",
    "    config.DURATION_SEC,\n",
    "    config.CROP_SEC\n",
    ")"
   ]
  },
  {
   "cell_type": "code",
   "execution_count": null,
   "id": "59352a07",
   "metadata": {},
   "outputs": [],
   "source": []
  }
 ],
 "metadata": {
  "kernelspec": {
   "display_name": "Python (Deep Learning Env)",
   "language": "python",
   "name": "deep_learning_env"
  },
  "language_info": {
   "codemirror_mode": {
    "name": "ipython",
    "version": 3
   },
   "file_extension": ".py",
   "mimetype": "text/x-python",
   "name": "python",
   "nbconvert_exporter": "python",
   "pygments_lexer": "ipython3",
   "version": "3.10.14"
  }
 },
 "nbformat": 4,
 "nbformat_minor": 5
}
